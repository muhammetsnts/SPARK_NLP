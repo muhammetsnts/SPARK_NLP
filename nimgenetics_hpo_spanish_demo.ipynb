{
  "nbformat": 4,
  "nbformat_minor": 0,
  "metadata": {
    "colab": {
      "name": "nimgenetics-hpo-spanish-demo.ipynb",
      "provenance": [],
      "collapsed_sections": []
    },
    "kernelspec": {
      "name": "python3",
      "display_name": "Python 3"
    },
    "language_info": {
      "name": "python"
    }
  },
  "cells": [
    {
      "cell_type": "code",
      "metadata": {
        "id": "XANLbZDZCDAr"
      },
      "source": [
        "import json\n",
        "\n",
        "from google.colab import files\n",
        "\n",
        "license_keys = files.upload()\n",
        "\n",
        "with open(list(license_keys.keys())[0]) as f:\n",
        "    license_keys = json.load(f)"
      ],
      "execution_count": null,
      "outputs": []
    },
    {
      "cell_type": "code",
      "metadata": {
        "id": "l720JFMPCcXc"
      },
      "source": [
        "%%capture\n",
        "for k,v in license_keys.items(): \n",
        "    %set_env $k=$v\n",
        "\n",
        "!wget https://raw.githubusercontent.com/JohnSnowLabs/spark-nlp-workshop/master/jsl_colab_setup.sh\n",
        "!bash jsl_colab_setup.sh\n",
        "\n",
        "! pip install spark-nlp-display"
      ],
      "execution_count": null,
      "outputs": []
    },
    {
      "cell_type": "code",
      "metadata": {
        "id": "mhX6FiOtCRuG"
      },
      "source": [
        "import os\n",
        "import json\n",
        "import pandas as pd\n",
        "\n",
        "import sparknlp_jsl\n",
        "from sparknlp.base import *\n",
        "from sparknlp.annotator import *\n",
        "from sparknlp_jsl.annotator import *"
      ],
      "execution_count": null,
      "outputs": []
    },
    {
      "cell_type": "code",
      "metadata": {
        "id": "XLkIE-zRCYsD"
      },
      "source": [
        "spark = sparknlp_jsl.start(os.environ['SECRET'])"
      ],
      "execution_count": null,
      "outputs": []
    },
    {
      "cell_type": "code",
      "metadata": {
        "id": "oiAVjkk8D-Ts"
      },
      "source": [
        "example1 = {\n",
        "    \"src\": \"Lactante de 9 meses con facies compatible con el síndrome de Noonan, hipertelorismo, implatación baja de \"\\\n",
        "    \"las orejas, trastorno de la conducta e hiperbilirrubinemia.\",\n",
        "    \"hpo_codes\": {\n",
        "        \"HP:0001999\": \"Abnormal facial shape\",\n",
        "        \"HP:0000316\": \"Hypertelorism\",\n",
        "        \"HP:0002904\": \"Hyperbilirubinemia\",\n",
        "        \"HP:0000369\": \"Low-set ears\",\n",
        "        \"HP:0000719\": \"Inappropriate behavior\"\n",
        "    }\n",
        "}\n",
        "\n",
        "example2 = {\n",
        "    \"src\": \"Paciente de 21 años con distrofia de retina compatible con retinosis pigmentaria y distrofia de conos \"\\\n",
        "            \"bastones, esclerosis múltiple y Ataxia Rendu-Osler.\",\n",
        "    \"hpo_codes\": {\n",
        "        \"HP:0000510\": \"Rod-cone dystrophy\",\n",
        "        \"HP:0000556\": \"Retinal dystrophy\",\n",
        "        \"HP:0001251\": \"Ataxia\",\n",
        "        \"HP:0032118\": \"Retinitis\",\n",
        "        \"HP:0000548\": \"Cone/cone-rod dystrophy\"\n",
        "    }\n",
        "}"
      ],
      "execution_count": null,
      "outputs": []
    },
    {
      "cell_type": "code",
      "metadata": {
        "colab": {
          "base_uri": "https://localhost:8080/"
        },
        "id": "WBs1vYl3EDuD",
        "outputId": "e3b075b3-fb38-4153-bf0d-918ac183a29c"
      },
      "source": [
        "# DataFrame vacío que usaremos para hacer el fit de los pipelines para obtener modelos\n",
        "emptyDF = spark.createDataFrame([[\"\"]]).toDF(\"text\")\n",
        "\n",
        "# NER Pipeline extrae fenotipos en Español\n",
        "\n",
        "document_assembler = DocumentAssembler()\\\n",
        "    .setInputCol(\"text\")\\\n",
        "    .setOutputCol((\"document\"))\n",
        "\n",
        "sentence_detector_dl = SentenceDetectorDLModel\\\n",
        "  .pretrained(\"sentence_detector_dl\", \"xx\") \\\n",
        "  .setInputCols([\"document\"]) \\\n",
        "  .setOutputCol(\"sentence\")\n",
        "\n",
        "tokenizer = Tokenizer()\\\n",
        "    .setInputCols([\"sentence\"])\\\n",
        "    .setOutputCol(\"token\")\n",
        "\n",
        "emb_scielowiki_es = WordEmbeddingsModel.pretrained(\"embeddings_scielowiki_300d\",\"es\",\"clinical/models\")\\\n",
        "\t.setInputCols([\"document\",\"token\"])\\\n",
        "\t.setOutputCol(\"word_embeddings\")\n",
        "\n",
        "ner_diag_proc_es = MedicalNerModel.pretrained(\"ner_diag_proc\",\"es\",\"clinical/models\")\\\n",
        "\t.setInputCols(\"sentence\",\"token\",\"word_embeddings\")\\\n",
        "\t.setOutputCol(\"ner\")\n",
        "\n",
        "ner_chunker = nerConverter = NerConverter()\\\n",
        "    .setInputCols([\"sentence\", \"token\", \"ner\"])\\\n",
        "    .setOutputCol(\"ner_chunk\")\n",
        "\n",
        "ner_es_pipeline = Pipeline(stages=[\n",
        "    document_assembler,\n",
        "    sentence_detector_dl,\n",
        "    tokenizer,\n",
        "    emb_scielowiki_es,\n",
        "    ner_diag_proc_es,\n",
        "    ner_chunker\n",
        "])\n",
        "\n",
        "\n",
        "ner_es_model = ner_es_pipeline.fit(emptyDF)\n",
        "l_ner_es_model = LightPipeline(ner_es_model)\n",
        "\n",
        "# Marian ES_EN Pipeline, traduce de español a inglés\n",
        "\n",
        "marian_es_en = MarianTransformer.pretrained(\"opus_mt_es_en\", \"xx\")\\\n",
        "    .setInputCols([\"document\"])\\\n",
        "    .setOutputCol(\"translation\")\n",
        "\n",
        "marian_es_en_pipeline = Pipeline(\n",
        "    stages=[\n",
        "            document_assembler, # reutilizamos el DocumentAssembler()\n",
        "            marian_es_en\n",
        "            ])\n",
        "l_marian_es_en = LightPipeline(marian_es_en_pipeline.fit(spark.createDataFrame([[\"\"]]).toDF(\"text\")))\n",
        "\n",
        "\n",
        "# Resolver Pipeline devuelve a partir de un fenotipo en inglés el código HPO\n",
        "\n",
        "sbert_embedder = BertSentenceEmbeddings\\\n",
        "     .pretrained(\"sbiobert_base_cased_mli\",'en','clinical/models')\\\n",
        "     .setInputCols([\"document\"])\\\n",
        "     .setOutputCol(\"sbert_embeddings\")\n",
        "\n",
        "resolver = SentenceEntityResolverModel.pretrained(\"sbiobertresolve_HPO\", \"en\", \"clinical/models\") \\\n",
        "     .setInputCols([\"ner_chunk\", \"sbert_embeddings\"]) \\\n",
        "     .setOutputCol(\"resolution\")\\\n",
        "     .setDistanceFunction(\"EUCLIDEAN\")\n",
        "\n",
        "resolver_pipeline = Pipeline(stages = [\n",
        "    document_assembler, # reutilizamos el DocumentAssembler()\n",
        "    sbert_embedder,\n",
        "    resolver]\n",
        ")\n",
        "resolver_model = resolver_pipeline.fit(emptyDF)\n",
        "l_resolver_model = LightPipeline(resolver_model)"
      ],
      "execution_count": null,
      "outputs": [
        {
          "output_type": "stream",
          "text": [
            "sentence_detector_dl download started this may take some time.\n",
            "Approximate size to download 514.9 KB\n",
            "[OK!]\n",
            "embeddings_scielowiki_300d download started this may take some time.\n",
            "Approximate size to download 351.2 MB\n",
            "[OK!]\n",
            "ner_diag_proc download started this may take some time.\n",
            "Approximate size to download 14.2 MB\n",
            "[OK!]\n",
            "opus_mt_es_en download started this may take some time.\n",
            "Approximate size to download 395.5 MB\n",
            "[OK!]\n",
            "sbiobert_base_cased_mli download started this may take some time.\n",
            "Approximate size to download 384.3 MB\n",
            "[OK!]\n",
            "sbiobertresolve_HPO download started this may take some time.\n",
            "Approximate size to download 98.9 MB\n",
            "[OK!]\n"
          ],
          "name": "stdout"
        }
      ]
    },
    {
      "cell_type": "code",
      "metadata": {
        "id": "AN0qy2fDFP9W"
      },
      "source": [
        "def extract_hpo(src, threshold=0.5):\n",
        "    \"\"\"\n",
        "    Esta función extrae la lista de HPO de un texto mostrando solo aquellos\n",
        "    donde se ha asignado el HPO con una confianza superior o igual a un threshold\n",
        "    \"\"\"\n",
        "    rdata = []\n",
        "    # Extraemos las entidades NER potenciales fenotipos\n",
        "    ner_es_results = l_ner_es_model.annotate(src)\n",
        "    for chunk in ner_es_results['ner_chunk']:\n",
        "        # Para cada entidad encontrada la traducimos al inglés\n",
        "        en_chunk = l_marian_es_en.annotate(chunk)['translation'][0]\n",
        "        # Obtenemos el HPO de la entidad traducida al inglés\n",
        "        hpo_results = l_resolver_model.fullAnnotate(en_chunk)[0]['resolution'][0]\n",
        "        # El resolver devuelve varios códigos HPO separados por ::: \n",
        "        # nos quedamos con el primero\n",
        "        resolution = hpo_results.metadata['all_k_resolutions'].split(\":::\")[0]\n",
        "        hpo_code = hpo_results.metadata['all_k_results'].split(\":::\")[0]\n",
        "        # confidence indica la fiabilidad del primer HPO (el más probable)\n",
        "        confidence = hpo_results.metadata['confidence']\n",
        "        # Añadimos el HPO de la entidad a la tabla de resultados final\n",
        "        rdata.append([chunk, en_chunk, hpo_code, resolution, confidence])\n",
        "    results = pd.DataFrame(data=rdata, columns=['chunk', 'en_chunk', 'hpo_code', 'hpo_label', 'confidence'])\n",
        "    results['confidence'] = results['confidence'].astype(float)\n",
        "    # Devolvemos ordenado por \"confidence\" descendente, solo si supera el threshold\n",
        "    return results[results['confidence']>=threshold].sort_values('confidence', ascending=False)\n",
        "\n"
      ],
      "execution_count": null,
      "outputs": []
    },
    {
      "cell_type": "code",
      "metadata": {
        "id": "MmXNQiLSGXPH"
      },
      "source": [
        "r1 = extract_hpo(example1['src'])"
      ],
      "execution_count": null,
      "outputs": []
    },
    {
      "cell_type": "code",
      "metadata": {
        "colab": {
          "base_uri": "https://localhost:8080/"
        },
        "id": "z5l5vHvyHk31",
        "outputId": "c6c169c0-8bfd-4975-f2fd-47329fb415f3"
      },
      "source": [
        "print(example1['src'])"
      ],
      "execution_count": null,
      "outputs": [
        {
          "output_type": "stream",
          "text": [
            "Lactante de 9 meses con facies compatible con el síndrome de Noonan, hipertelorismo, implatación baja de las orejas, trastorno de la conducta e hiperbilirrubinemia.\n"
          ],
          "name": "stdout"
        }
      ]
    },
    {
      "cell_type": "code",
      "metadata": {
        "colab": {
          "base_uri": "https://localhost:8080/",
          "height": 142
        },
        "id": "DOTA0YKGGaf0",
        "outputId": "d790e694-8ef2-4a24-ad15-acf638f0782a"
      },
      "source": [
        "r1"
      ],
      "execution_count": null,
      "outputs": [
        {
          "output_type": "execute_result",
          "data": {
            "text/html": [
              "<div>\n",
              "<style scoped>\n",
              "    .dataframe tbody tr th:only-of-type {\n",
              "        vertical-align: middle;\n",
              "    }\n",
              "\n",
              "    .dataframe tbody tr th {\n",
              "        vertical-align: top;\n",
              "    }\n",
              "\n",
              "    .dataframe thead th {\n",
              "        text-align: right;\n",
              "    }\n",
              "</style>\n",
              "<table border=\"1\" class=\"dataframe\">\n",
              "  <thead>\n",
              "    <tr style=\"text-align: right;\">\n",
              "      <th></th>\n",
              "      <th>chunk</th>\n",
              "      <th>en_chunk</th>\n",
              "      <th>hpo_code</th>\n",
              "      <th>hpo_label</th>\n",
              "      <th>confidence</th>\n",
              "    </tr>\n",
              "  </thead>\n",
              "  <tbody>\n",
              "    <tr>\n",
              "      <th>1</th>\n",
              "      <td>hipertelorismo</td>\n",
              "      <td>hypertelorism</td>\n",
              "      <td>HP:0000316</td>\n",
              "      <td>hypertelorism</td>\n",
              "      <td>0.9945</td>\n",
              "    </tr>\n",
              "    <tr>\n",
              "      <th>2</th>\n",
              "      <td>trastorno de la conducta</td>\n",
              "      <td>behavior disorder</td>\n",
              "      <td>HP:0000708</td>\n",
              "      <td>behavioral disorders</td>\n",
              "      <td>0.8406</td>\n",
              "    </tr>\n",
              "    <tr>\n",
              "      <th>3</th>\n",
              "      <td>hiperbilirrubinemia</td>\n",
              "      <td>hyperbilirubinaemia</td>\n",
              "      <td>HP:0002904</td>\n",
              "      <td>hyperbilirubinemia</td>\n",
              "      <td>0.8010</td>\n",
              "    </tr>\n",
              "  </tbody>\n",
              "</table>\n",
              "</div>"
            ],
            "text/plain": [
              "                      chunk  ... confidence\n",
              "1            hipertelorismo  ...     0.9945\n",
              "2  trastorno de la conducta  ...     0.8406\n",
              "3       hiperbilirrubinemia  ...     0.8010\n",
              "\n",
              "[3 rows x 5 columns]"
            ]
          },
          "metadata": {
            "tags": []
          },
          "execution_count": 14
        }
      ]
    },
    {
      "cell_type": "code",
      "metadata": {
        "id": "m6EchQgWHe3G"
      },
      "source": [
        "r2 = extract_hpo(example2['src'])"
      ],
      "execution_count": null,
      "outputs": []
    },
    {
      "cell_type": "code",
      "metadata": {
        "id": "ecsXCQP7IN7F",
        "colab": {
          "base_uri": "https://localhost:8080/"
        },
        "outputId": "27d549f8-4257-43b9-bfaf-586af4a7aeb9"
      },
      "source": [
        "print(example2['src'])"
      ],
      "execution_count": null,
      "outputs": [
        {
          "output_type": "stream",
          "text": [
            "Paciente de 21 años con distrofia de retina compatible con retinosis pigmentaria y distrofia de conos bastones, esclerosis múltiple y Ataxia Rendu-Osler.\n"
          ],
          "name": "stdout"
        }
      ]
    },
    {
      "cell_type": "code",
      "metadata": {
        "id": "KGSy-mUDIPe8",
        "colab": {
          "base_uri": "https://localhost:8080/",
          "height": 111
        },
        "outputId": "4980fb09-e5e0-49bc-ba88-891a25f48fc2"
      },
      "source": [
        "r2"
      ],
      "execution_count": null,
      "outputs": [
        {
          "output_type": "execute_result",
          "data": {
            "text/html": [
              "<div>\n",
              "<style scoped>\n",
              "    .dataframe tbody tr th:only-of-type {\n",
              "        vertical-align: middle;\n",
              "    }\n",
              "\n",
              "    .dataframe tbody tr th {\n",
              "        vertical-align: top;\n",
              "    }\n",
              "\n",
              "    .dataframe thead th {\n",
              "        text-align: right;\n",
              "    }\n",
              "</style>\n",
              "<table border=\"1\" class=\"dataframe\">\n",
              "  <thead>\n",
              "    <tr style=\"text-align: right;\">\n",
              "      <th></th>\n",
              "      <th>chunk</th>\n",
              "      <th>en_chunk</th>\n",
              "      <th>hpo_code</th>\n",
              "      <th>hpo_label</th>\n",
              "      <th>confidence</th>\n",
              "    </tr>\n",
              "  </thead>\n",
              "  <tbody>\n",
              "    <tr>\n",
              "      <th>0</th>\n",
              "      <td>distrofia de retina</td>\n",
              "      <td>retinal dystrophy</td>\n",
              "      <td>HP:0000556</td>\n",
              "      <td>retinal dystrophy</td>\n",
              "      <td>0.9280</td>\n",
              "    </tr>\n",
              "    <tr>\n",
              "      <th>4</th>\n",
              "      <td>Ataxia</td>\n",
              "      <td>Ataxia</td>\n",
              "      <td>HP:0001251</td>\n",
              "      <td>ataxia</td>\n",
              "      <td>0.6419</td>\n",
              "    </tr>\n",
              "  </tbody>\n",
              "</table>\n",
              "</div>"
            ],
            "text/plain": [
              "                 chunk           en_chunk  ...          hpo_label confidence\n",
              "0  distrofia de retina  retinal dystrophy  ...  retinal dystrophy     0.9280\n",
              "4               Ataxia             Ataxia  ...             ataxia     0.6419\n",
              "\n",
              "[2 rows x 5 columns]"
            ]
          },
          "metadata": {
            "tags": []
          },
          "execution_count": 18
        }
      ]
    },
    {
      "cell_type": "code",
      "metadata": {
        "id": "KrDJu--hIQd9"
      },
      "source": [
        ""
      ],
      "execution_count": null,
      "outputs": []
    }
  ]
}